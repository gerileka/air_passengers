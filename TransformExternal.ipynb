{
 "cells": [
  {
   "cell_type": "code",
   "execution_count": 10,
   "metadata": {
    "ExecuteTime": {
     "end_time": "2020-03-16T20:03:55.396907Z",
     "start_time": "2020-03-16T20:03:55.385027Z"
    }
   },
   "outputs": [],
   "source": [
    "import pandas as pd\n",
    "import numpy as np\n",
    "import holidays\n",
    "import calendar\n",
    "import datetime \n",
    "import dateutil.relativedelta\n",
    "import pandas_datareader.data as web\n",
    "import requests \n",
    "from bs4 import BeautifulSoup\n",
    "import json\n",
    "from tqdm import tqdm\n",
    "\n",
    "import warnings\n",
    "warnings.filterwarnings(\"ignore\")"
   ]
  },
  {
   "cell_type": "markdown",
   "metadata": {},
   "source": [
    "### DataFrame de base External "
   ]
  },
  {
   "cell_type": "markdown",
   "metadata": {},
   "source": [
    "- Pour voir commment ca marche le code, on vous propose d'utiliser external_data2, copie du external original, pour voir comment il va etre transformé.\n",
    "- Pour voir les fonction du creation de external_data, on vous a mis a disposition des autres nom de fichier, il suffit juste d'enlever des commentaire les df.to_csv (1) et (2) qui sont en commentaire en bas et de faire run le code en commentaire. \n",
    "\n",
    "(Faites attention, le code pour la distance est assez longue, pour cette raison on utilise la librarie tqdm pour vous montrez combien de temps il reste)"
   ]
  },
  {
   "cell_type": "code",
   "execution_count": 11,
   "metadata": {
    "ExecuteTime": {
     "end_time": "2020-03-16T20:03:57.234916Z",
     "start_time": "2020-03-16T20:03:57.126784Z"
    }
   },
   "outputs": [
    {
     "data": {
      "text/html": [
       "<div>\n",
       "<style scoped>\n",
       "    .dataframe tbody tr th:only-of-type {\n",
       "        vertical-align: middle;\n",
       "    }\n",
       "\n",
       "    .dataframe tbody tr th {\n",
       "        vertical-align: top;\n",
       "    }\n",
       "\n",
       "    .dataframe thead th {\n",
       "        text-align: right;\n",
       "    }\n",
       "</style>\n",
       "<table border=\"1\" class=\"dataframe\">\n",
       "  <thead>\n",
       "    <tr style=\"text-align: right;\">\n",
       "      <th></th>\n",
       "      <th>Date</th>\n",
       "      <th>AirPort</th>\n",
       "      <th>Max TemperatureC</th>\n",
       "      <th>Mean TemperatureC</th>\n",
       "      <th>Min TemperatureC</th>\n",
       "      <th>Dew PointC</th>\n",
       "      <th>MeanDew PointC</th>\n",
       "      <th>Min DewpointC</th>\n",
       "      <th>Max Humidity</th>\n",
       "      <th>Mean Humidity</th>\n",
       "      <th>...</th>\n",
       "      <th>Max VisibilityKm</th>\n",
       "      <th>Mean VisibilityKm</th>\n",
       "      <th>Min VisibilitykM</th>\n",
       "      <th>Max Wind SpeedKm/h</th>\n",
       "      <th>Mean Wind SpeedKm/h</th>\n",
       "      <th>Max Gust SpeedKm/h</th>\n",
       "      <th>Precipitationmm</th>\n",
       "      <th>CloudCover</th>\n",
       "      <th>Events</th>\n",
       "      <th>WindDirDegrees</th>\n",
       "    </tr>\n",
       "  </thead>\n",
       "  <tbody>\n",
       "    <tr>\n",
       "      <th>0</th>\n",
       "      <td>2011-09-01</td>\n",
       "      <td>ATL</td>\n",
       "      <td>35</td>\n",
       "      <td>29</td>\n",
       "      <td>24</td>\n",
       "      <td>21</td>\n",
       "      <td>18</td>\n",
       "      <td>14</td>\n",
       "      <td>79</td>\n",
       "      <td>56</td>\n",
       "      <td>...</td>\n",
       "      <td>16</td>\n",
       "      <td>16</td>\n",
       "      <td>11</td>\n",
       "      <td>19</td>\n",
       "      <td>6</td>\n",
       "      <td>26.0</td>\n",
       "      <td>0.00</td>\n",
       "      <td>3</td>\n",
       "      <td>NaN</td>\n",
       "      <td>129</td>\n",
       "    </tr>\n",
       "    <tr>\n",
       "      <th>1</th>\n",
       "      <td>2011-09-02</td>\n",
       "      <td>ATL</td>\n",
       "      <td>36</td>\n",
       "      <td>29</td>\n",
       "      <td>22</td>\n",
       "      <td>17</td>\n",
       "      <td>15</td>\n",
       "      <td>14</td>\n",
       "      <td>61</td>\n",
       "      <td>46</td>\n",
       "      <td>...</td>\n",
       "      <td>16</td>\n",
       "      <td>16</td>\n",
       "      <td>16</td>\n",
       "      <td>24</td>\n",
       "      <td>7</td>\n",
       "      <td>34.0</td>\n",
       "      <td>0.00</td>\n",
       "      <td>2</td>\n",
       "      <td>NaN</td>\n",
       "      <td>185</td>\n",
       "    </tr>\n",
       "    <tr>\n",
       "      <th>2</th>\n",
       "      <td>2011-09-03</td>\n",
       "      <td>ATL</td>\n",
       "      <td>35</td>\n",
       "      <td>29</td>\n",
       "      <td>23</td>\n",
       "      <td>17</td>\n",
       "      <td>16</td>\n",
       "      <td>14</td>\n",
       "      <td>64</td>\n",
       "      <td>47</td>\n",
       "      <td>...</td>\n",
       "      <td>16</td>\n",
       "      <td>16</td>\n",
       "      <td>16</td>\n",
       "      <td>19</td>\n",
       "      <td>7</td>\n",
       "      <td>26.0</td>\n",
       "      <td>0.00</td>\n",
       "      <td>4</td>\n",
       "      <td>NaN</td>\n",
       "      <td>147</td>\n",
       "    </tr>\n",
       "    <tr>\n",
       "      <th>3</th>\n",
       "      <td>2011-09-04</td>\n",
       "      <td>ATL</td>\n",
       "      <td>27</td>\n",
       "      <td>24</td>\n",
       "      <td>22</td>\n",
       "      <td>22</td>\n",
       "      <td>19</td>\n",
       "      <td>16</td>\n",
       "      <td>93</td>\n",
       "      <td>72</td>\n",
       "      <td>...</td>\n",
       "      <td>16</td>\n",
       "      <td>14</td>\n",
       "      <td>4</td>\n",
       "      <td>21</td>\n",
       "      <td>9</td>\n",
       "      <td>26.0</td>\n",
       "      <td>6.10</td>\n",
       "      <td>6</td>\n",
       "      <td>Rain</td>\n",
       "      <td>139</td>\n",
       "    </tr>\n",
       "    <tr>\n",
       "      <th>4</th>\n",
       "      <td>2011-09-05</td>\n",
       "      <td>ATL</td>\n",
       "      <td>26</td>\n",
       "      <td>24</td>\n",
       "      <td>22</td>\n",
       "      <td>23</td>\n",
       "      <td>22</td>\n",
       "      <td>20</td>\n",
       "      <td>94</td>\n",
       "      <td>91</td>\n",
       "      <td>...</td>\n",
       "      <td>16</td>\n",
       "      <td>13</td>\n",
       "      <td>3</td>\n",
       "      <td>32</td>\n",
       "      <td>16</td>\n",
       "      <td>45.0</td>\n",
       "      <td>16.00</td>\n",
       "      <td>8</td>\n",
       "      <td>Rain-Thunderstorm</td>\n",
       "      <td>149</td>\n",
       "    </tr>\n",
       "  </tbody>\n",
       "</table>\n",
       "<p>5 rows × 24 columns</p>\n",
       "</div>"
      ],
      "text/plain": [
       "         Date AirPort  Max TemperatureC  Mean TemperatureC  Min TemperatureC  \\\n",
       "0  2011-09-01     ATL                35                 29                24   \n",
       "1  2011-09-02     ATL                36                 29                22   \n",
       "2  2011-09-03     ATL                35                 29                23   \n",
       "3  2011-09-04     ATL                27                 24                22   \n",
       "4  2011-09-05     ATL                26                 24                22   \n",
       "\n",
       "   Dew PointC  MeanDew PointC  Min DewpointC  Max Humidity  Mean Humidity  \\\n",
       "0          21              18             14            79             56   \n",
       "1          17              15             14            61             46   \n",
       "2          17              16             14            64             47   \n",
       "3          22              19             16            93             72   \n",
       "4          23              22             20            94             91   \n",
       "\n",
       "   ...  Max VisibilityKm  Mean VisibilityKm  Min VisibilitykM  \\\n",
       "0  ...                16                 16                11   \n",
       "1  ...                16                 16                16   \n",
       "2  ...                16                 16                16   \n",
       "3  ...                16                 14                 4   \n",
       "4  ...                16                 13                 3   \n",
       "\n",
       "   Max Wind SpeedKm/h  Mean Wind SpeedKm/h  Max Gust SpeedKm/h  \\\n",
       "0                  19                    6                26.0   \n",
       "1                  24                    7                34.0   \n",
       "2                  19                    7                26.0   \n",
       "3                  21                    9                26.0   \n",
       "4                  32                   16                45.0   \n",
       "\n",
       "   Precipitationmm  CloudCover             Events  WindDirDegrees  \n",
       "0             0.00           3                NaN             129  \n",
       "1             0.00           2                NaN             185  \n",
       "2             0.00           4                NaN             147  \n",
       "3             6.10           6               Rain             139  \n",
       "4            16.00           8  Rain-Thunderstorm             149  \n",
       "\n",
       "[5 rows x 24 columns]"
      ]
     },
     "execution_count": 11,
     "metadata": {},
     "output_type": "execute_result"
    }
   ],
   "source": [
    "ext = pd.read_csv(\"submissions/starting_kit/external_data2.csv\")\n",
    "ext.head()"
   ]
  },
  {
   "cell_type": "markdown",
   "metadata": {},
   "source": [
    " Column that will show if we it's a holiday day + weekend"
   ]
  },
  {
   "cell_type": "markdown",
   "metadata": {},
   "source": [
    "###### US_holidays and weekends"
   ]
  },
  {
   "cell_type": "code",
   "execution_count": 12,
   "metadata": {
    "ExecuteTime": {
     "end_time": "2020-03-16T20:04:04.082331Z",
     "start_time": "2020-03-16T20:04:04.056756Z"
    }
   },
   "outputs": [],
   "source": [
    "def getUSHolidays(df):\n",
    "    \n",
    "    \"\"\"\n",
    "    Fonction pour le weekend and pour les jours feries. \n",
    "    \"\"\"\n",
    "    \n",
    "    us_holidays = holidays.US()\n",
    "    holid = []\n",
    "    date_values=df.Date.tolist()\n",
    "    \n",
    "    for date in date_values:\n",
    "        rep = date in us_holidays\n",
    "        if rep=='True':\n",
    "            rep = 1\n",
    "        else:\n",
    "            rep = 0\n",
    "        holid.append(rep)\n",
    "        \n",
    "    df['Holidays'] = holid\n",
    "    \n",
    "    print('getUSHolidays(): Finished')\n",
    "    \n",
    "    return df\n",
    "\n",
    "def findDay(date): \n",
    "    \n",
    "    year, month, day = (int(i) for i in date.replace(\"-\",\" \").split(' '))        \n",
    "    dayNumber = calendar.weekday(year, month, day) \n",
    "    days =[\"Monday\", \"Tuesday\", \"Wednesday\", \"Thursday\", \n",
    "                         \"Friday\", \"Saturday\", \"Sunday\"] \n",
    "    return (days[dayNumber]) \n",
    "\n",
    "def getWeekend(df):\n",
    "    \n",
    "    getUSHolidays(df)\n",
    "    \n",
    "    date_values=df.Date.tolist()\n",
    "\n",
    "    Weekend = []\n",
    "    \n",
    "    for date in date_values:\n",
    "        wkend = findDay(date)\n",
    "        if wkend=='Saturday' or wkend=='Sunday':\n",
    "            wkend = 1\n",
    "        else:\n",
    "            wkend = 0\n",
    "        Weekend.append(wkend)\n",
    "    \n",
    "    df['Weekend'] = Weekend\n",
    "        \n",
    "    print('getWeekend(): Finished')\n",
    "    \n",
    "    return df\n",
    "\n",
    "\n",
    "def nonBusinessDay(df):\n",
    "    \n",
    "    getWeekend(df)\n",
    "    \n",
    "    df['N_BD'] = df.Holidays + df.Weekend\n",
    "    for i in df['N_BD']:\n",
    "        if i == 2:\n",
    "            i = 1\n",
    "    df.drop(columns=['Holidays', 'Weekend'], inplace = True)\n",
    "    \n",
    "    print('nonBusinessDay(): Finished')\n",
    "    \n",
    "    return df"
   ]
  },
  {
   "cell_type": "markdown",
   "metadata": {
    "ExecuteTime": {
     "end_time": "2020-02-28T09:34:23.666663Z",
     "start_time": "2020-02-28T09:34:23.657903Z"
    }
   },
   "source": [
    "###### Oil price lagged 1, 3, 6 and 9 mois. "
   ]
  },
  {
   "cell_type": "code",
   "execution_count": 13,
   "metadata": {
    "ExecuteTime": {
     "end_time": "2020-03-16T20:04:10.565374Z",
     "start_time": "2020-03-16T20:04:10.124756Z"
    }
   },
   "outputs": [],
   "source": [
    "oil = web.DataReader(\"MJFUELUSGULF\", \"fred\", '2008-01-01', '2015-01-01')\n",
    "oil.reset_index(inplace=True)\n",
    "oil[\"DATE\"] = oil[\"DATE\"].apply(lambda x: x.strftime('%Y-%m'))\n",
    "\n",
    "def getOilprice(df,oil):\n",
    "    \"\"\"\n",
    "    Fonction pour le prix du kerosene avec un lag de 1 ,3, 6, 12 mois.\n",
    "    \"\"\"\n",
    "    \n",
    "    date_values = df.Date.values\n",
    "    offsetList = [1,3,6,12]\n",
    "    \n",
    "    for lag in tqdm(offsetList):\n",
    "        DateOffSet = []\n",
    "        \n",
    "        for dat in date_values:\n",
    "            \n",
    "            dat = datetime.datetime.strptime(dat, \"%Y-%m-%d\")\n",
    "            dateoff = str((dat - dateutil.relativedelta.relativedelta(months=lag)).date())\n",
    "            DateOffSet.append(dateoff)\n",
    "            \n",
    "        df[\"DateOffSet\"+str(lag)] = DateOffSet\n",
    "        df[\"DateOffSet\"+str(lag)] = pd.to_datetime(df[\"DateOffSet\"+str(lag)])\n",
    "        df[\"DateOffSet\"+str(lag)] = df[\"DateOffSet\"+str(lag)].apply(lambda x: x.strftime(\"%Y-%m\"))\n",
    "        oil.columns = [\"DateOffSet\"+str(lag), \"Oil_Poffset\"+str(lag)]\n",
    "        df = pd.merge(df, oil, on=\"DateOffSet\"+str(lag))\n",
    "        df.drop(columns=[\"DateOffSet\"+str(lag)], inplace = True)\n",
    "    \n",
    "    print('getOilprice(): Finished')\n",
    "    \n",
    "    return df"
   ]
  },
  {
   "cell_type": "markdown",
   "metadata": {
    "ExecuteTime": {
     "end_time": "2020-02-28T09:07:37.164885Z",
     "start_time": "2020-02-28T09:07:37.159812Z"
    }
   },
   "source": [
    " ###### Get the City from the airport "
   ]
  },
  {
   "cell_type": "code",
   "execution_count": 14,
   "metadata": {
    "ExecuteTime": {
     "end_time": "2020-03-16T20:04:15.835709Z",
     "start_time": "2020-03-16T20:04:15.819650Z"
    }
   },
   "outputs": [],
   "source": [
    "def getCity(df):\n",
    "    \n",
    "    \"\"\"\n",
    "    Fonction qui prends la ville a partir de l'aeroport.\n",
    "    \"\"\"\n",
    "    \n",
    "    City = []\n",
    "\n",
    "    airp=df.AirPort.unique().tolist()\n",
    "    \n",
    "    for iata in tqdm(airp):\n",
    "        url = 'https://www.airnav.com/airport/'+str(iata)\n",
    "        page = requests.get(url, verify=False)\n",
    "        soup = BeautifulSoup(page._content, 'html.parser')\n",
    "        table = soup.findAll('font',{'face': 'Verdana, Arial, Helvetica, sans-serif'})\n",
    "        city = (str(table[1])).split('br/>')[1].split(',')[0]\n",
    "        City.append(city)\n",
    "        \n",
    "    City = list(map(lambda st: str.replace(st, \"Dallas-Fort Worth\", \"Dallas\"), City)) \n",
    "    DictCity = dict(zip(airp, City))\n",
    "    \n",
    "    df['City'] = df['AirPort'].map(DictCity)\n",
    "    \n",
    "    print('getCity(): Finished')\n",
    "    \n",
    "    return df"
   ]
  },
  {
   "cell_type": "code",
   "execution_count": 15,
   "metadata": {
    "ExecuteTime": {
     "end_time": "2020-03-16T20:04:21.346012Z",
     "start_time": "2020-03-16T20:04:21.331439Z"
    }
   },
   "outputs": [],
   "source": [
    "def get_city_opendata(city, country):\n",
    "    tmp = 'https://public.opendatasoft.com/api/records/1.0/search/?dataset=worldcitiespop&q=%s&sort=population&facet=country&refine.country=%s'\n",
    "    cmd = tmp % (city, country)\n",
    "    res = requests.get(cmd)\n",
    "    dct = json.loads(res.content)\n",
    "    out = dct['records'][0]['fields']\n",
    "    return out\n",
    "\n",
    "\n",
    "def getPopulation(df):\n",
    "    \n",
    "    \"\"\"\n",
    "    Fonction qui prends la population a partir de la Ville et du Pays grace au database du site.\n",
    "    \"\"\"\n",
    "    \n",
    "    population = []\n",
    "    ville =df.City.unique().tolist()\n",
    "    \n",
    "    for cit in tqdm(ville):\n",
    "        pop = get_city_opendata(cit, 'us')\n",
    "        population.append(pop['population'])\n",
    "        \n",
    "    DictPop =  dict(zip(ville, population))\n",
    "    df['Population'] = df['City'].map(DictPop)\n",
    "    \n",
    "    print('getPopulation(): Finished')\n",
    "    \n",
    "    return df"
   ]
  },
  {
   "cell_type": "markdown",
   "metadata": {},
   "source": [
    "Comme expliquer dans le Word, le but c'etait de creer dans le meme csv deux tables differentes et le tenir formatter dans cette maniere la en diagonal. La fonction Bigdataframe(df): creer la grande table a gauche. "
   ]
  },
  {
   "cell_type": "code",
   "execution_count": 16,
   "metadata": {
    "ExecuteTime": {
     "end_time": "2020-03-16T20:05:29.084429Z",
     "start_time": "2020-03-16T20:04:22.630796Z"
    }
   },
   "outputs": [
    {
     "name": "stdout",
     "output_type": "stream",
     "text": [
      "getUSHolidays(): Finished\n",
      "getWeekend(): Finished\n",
      "nonBusinessDay(): Finished\n"
     ]
    },
    {
     "name": "stderr",
     "output_type": "stream",
     "text": [
      "100%|████████████████████████████████████████████████████████████████████████████████████| 4/4 [00:04<00:00,  1.01s/it]\n"
     ]
    },
    {
     "name": "stdout",
     "output_type": "stream",
     "text": [
      "getOilprice(): Finished\n"
     ]
    },
    {
     "name": "stderr",
     "output_type": "stream",
     "text": [
      "100%|██████████████████████████████████████████████████████████████████████████████████| 20/20 [00:53<00:00,  2.10s/it]\n"
     ]
    },
    {
     "name": "stdout",
     "output_type": "stream",
     "text": [
      "getCity(): Finished\n"
     ]
    },
    {
     "name": "stderr",
     "output_type": "stream",
     "text": [
      "100%|██████████████████████████████████████████████████████████████████████████████████| 19/19 [00:07<00:00,  2.40it/s]\n"
     ]
    },
    {
     "name": "stdout",
     "output_type": "stream",
     "text": [
      "getPopulation(): Finished\n"
     ]
    }
   ],
   "source": [
    "def Bigdataframe(df):\n",
    "    \"\"\"\n",
    "    Fonction qui appele tout les fonctions en haut. \n",
    "    \"\"\"\n",
    "    \n",
    "    df = nonBusinessDay(df)\n",
    "    df = getOilprice(df,oil)\n",
    "    df = getCity(df)\n",
    "    df = getPopulation(df)\n",
    "    \n",
    "    return df\n",
    "\n",
    "ext = Bigdataframe(ext)"
   ]
  },
  {
   "cell_type": "code",
   "execution_count": 19,
   "metadata": {
    "ExecuteTime": {
     "end_time": "2020-03-16T20:06:14.452930Z",
     "start_time": "2020-03-16T20:06:14.411236Z"
    }
   },
   "outputs": [
    {
     "name": "stdout",
     "output_type": "stream",
     "text": [
      "(11040, 31)\n"
     ]
    },
    {
     "data": {
      "text/html": [
       "<div>\n",
       "<style scoped>\n",
       "    .dataframe tbody tr th:only-of-type {\n",
       "        vertical-align: middle;\n",
       "    }\n",
       "\n",
       "    .dataframe tbody tr th {\n",
       "        vertical-align: top;\n",
       "    }\n",
       "\n",
       "    .dataframe thead th {\n",
       "        text-align: right;\n",
       "    }\n",
       "</style>\n",
       "<table border=\"1\" class=\"dataframe\">\n",
       "  <thead>\n",
       "    <tr style=\"text-align: right;\">\n",
       "      <th></th>\n",
       "      <th>Date</th>\n",
       "      <th>AirPort</th>\n",
       "      <th>Max TemperatureC</th>\n",
       "      <th>Mean TemperatureC</th>\n",
       "      <th>Min TemperatureC</th>\n",
       "      <th>Dew PointC</th>\n",
       "      <th>MeanDew PointC</th>\n",
       "      <th>Min DewpointC</th>\n",
       "      <th>Max Humidity</th>\n",
       "      <th>Mean Humidity</th>\n",
       "      <th>...</th>\n",
       "      <th>CloudCover</th>\n",
       "      <th>Events</th>\n",
       "      <th>WindDirDegrees</th>\n",
       "      <th>N_BD</th>\n",
       "      <th>Oil_Poffset1</th>\n",
       "      <th>Oil_Poffset3</th>\n",
       "      <th>Oil_Poffset6</th>\n",
       "      <th>Oil_Poffset12</th>\n",
       "      <th>City</th>\n",
       "      <th>Population</th>\n",
       "    </tr>\n",
       "  </thead>\n",
       "  <tbody>\n",
       "    <tr>\n",
       "      <th>0</th>\n",
       "      <td>2011-09-01</td>\n",
       "      <td>ATL</td>\n",
       "      <td>35</td>\n",
       "      <td>29</td>\n",
       "      <td>24</td>\n",
       "      <td>21</td>\n",
       "      <td>18</td>\n",
       "      <td>14</td>\n",
       "      <td>79</td>\n",
       "      <td>56</td>\n",
       "      <td>...</td>\n",
       "      <td>3</td>\n",
       "      <td>NaN</td>\n",
       "      <td>129</td>\n",
       "      <td>0</td>\n",
       "      <td>3.008</td>\n",
       "      <td>3.046</td>\n",
       "      <td>3.125</td>\n",
       "      <td>2.114</td>\n",
       "      <td>Atlanta</td>\n",
       "      <td>422908</td>\n",
       "    </tr>\n",
       "  </tbody>\n",
       "</table>\n",
       "<p>1 rows × 31 columns</p>\n",
       "</div>"
      ],
      "text/plain": [
       "         Date AirPort  Max TemperatureC  Mean TemperatureC  Min TemperatureC  \\\n",
       "0  2011-09-01     ATL                35                 29                24   \n",
       "\n",
       "   Dew PointC  MeanDew PointC  Min DewpointC  Max Humidity  Mean Humidity  \\\n",
       "0          21              18             14            79             56   \n",
       "\n",
       "   ...  CloudCover  Events  WindDirDegrees  N_BD  Oil_Poffset1  Oil_Poffset3  \\\n",
       "0  ...           3     NaN             129     0         3.008         3.046   \n",
       "\n",
       "   Oil_Poffset6  Oil_Poffset12     City  Population  \n",
       "0         3.125          2.114  Atlanta      422908  \n",
       "\n",
       "[1 rows x 31 columns]"
      ]
     },
     "execution_count": 19,
     "metadata": {},
     "output_type": "execute_result"
    }
   ],
   "source": [
    "# ext.to_csv('submissions/starting_kit/support1.csv', index=False)\n",
    "print(ext.shape)\n",
    "ext.head(1)"
   ]
  },
  {
   "cell_type": "markdown",
   "metadata": {},
   "source": [
    "###### DataFrame pour la Distance"
   ]
  },
  {
   "cell_type": "markdown",
   "metadata": {},
   "source": [
    "Creation de l'autre DataFrame, celui de droite. Il va contenir que trois colonne. "
   ]
  },
  {
   "cell_type": "code",
   "execution_count": 236,
   "metadata": {
    "ExecuteTime": {
     "end_time": "2020-02-28T11:25:54.996402Z",
     "start_time": "2020-02-28T11:22:16.341149Z"
    }
   },
   "outputs": [
    {
     "name": "stderr",
     "output_type": "stream",
     "text": [
      "\n",
      "  0%|                                                                                           | 0/20 [00:00<?, ?it/s]\n",
      "  5%|████▏                                                                              | 1/20 [00:05<01:53,  5.96s/it]\n",
      " 10%|████████▎                                                                          | 2/20 [00:17<02:15,  7.55s/it]\n",
      " 15%|████████████▍                                                                      | 3/20 [00:31<02:43,  9.62s/it]\n",
      " 20%|████████████████▌                                                                  | 4/20 [00:43<02:44, 10.29s/it]\n",
      " 25%|████████████████████▊                                                              | 5/20 [00:58<02:54, 11.63s/it]\n",
      " 30%|████████████████████████▉                                                          | 6/20 [01:05<02:26, 10.43s/it]\n",
      " 35%|█████████████████████████████                                                      | 7/20 [01:12<02:00,  9.26s/it]\n",
      " 40%|█████████████████████████████████▏                                                 | 8/20 [01:18<01:40,  8.42s/it]\n",
      " 45%|█████████████████████████████████████▎                                             | 9/20 [01:27<01:33,  8.48s/it]\n",
      " 50%|█████████████████████████████████████████                                         | 10/20 [01:38<01:31,  9.16s/it]\n",
      " 55%|█████████████████████████████████████████████                                     | 11/20 [01:50<01:30, 10.05s/it]\n",
      " 60%|█████████████████████████████████████████████████▏                                | 12/20 [02:00<01:20, 10.04s/it]\n",
      " 65%|█████████████████████████████████████████████████████▎                            | 13/20 [02:08<01:05,  9.38s/it]\n",
      " 70%|█████████████████████████████████████████████████████████▍                        | 14/20 [02:17<00:55,  9.32s/it]\n",
      " 75%|█████████████████████████████████████████████████████████████▌                    | 15/20 [02:34<00:57, 11.55s/it]\n",
      " 80%|█████████████████████████████████████████████████████████████████▌                | 16/20 [02:58<01:01, 15.40s/it]\n",
      " 85%|█████████████████████████████████████████████████████████████████████▋            | 17/20 [03:07<00:40, 13.48s/it]\n",
      " 90%|█████████████████████████████████████████████████████████████████████████▊        | 18/20 [03:18<00:25, 12.58s/it]\n",
      " 95%|█████████████████████████████████████████████████████████████████████████████▉    | 19/20 [03:30<00:12, 12.52s/it]\n",
      "100%|██████████████████████████████████████████████████████████████████████████████████| 20/20 [03:38<00:00, 11.22s/it]"
     ]
    }
   ],
   "source": [
    "def getDistance(df):\n",
    "    \n",
    "    \"\"\"\n",
    "    Fonction qui fait tout les combinaison posible entre les distance et trouve la distance entre les aeroport.\n",
    "    \n",
    "    \"\"\"\n",
    "\n",
    "    distance = []\n",
    "    CityDep = []\n",
    "    CityArr = []\n",
    "\n",
    "    Airp1=df.AirPort.unique().tolist()\n",
    "    Airp2=df.AirPort.unique().tolist()\n",
    "\n",
    "    for i in  tqdm(Airp1):\n",
    "        for j in Airp2: \n",
    "            CityDep.append(i)\n",
    "            CityArr.append(j)\n",
    "            \n",
    "            if i==j:\n",
    "            \n",
    "                distance.append(0)\n",
    "    \n",
    "            else:\n",
    "                url = vfrom-'+str(i).lower()+'/to-'+str(j).lower()+'/'\n",
    "                page = requests.get(url, verify=False)\n",
    "                soup = BeautifulSoup(page.content, 'html.parser')\n",
    "                table = soup.findAll('div',{'class': 'highlight-grey pad-large full-width item-block'})\n",
    "                table=str(table)\n",
    "                km=table.split('km')[0].split('miles')[1].replace(\"/\",\"\").strip()\n",
    "                distance.append(km)   \n",
    "        \n",
    "    #DictPop =  dict(zip(CityDep,zip(CityArr, distance)))\n",
    "    \n",
    "    return CityDep,CityArr, distance\n",
    "\n",
    "CityDep,CityArr, distance = getDistance(ext)"
   ]
  },
  {
   "cell_type": "code",
   "execution_count": 293,
   "metadata": {
    "ExecuteTime": {
     "end_time": "2020-02-28T14:12:11.082466Z",
     "start_time": "2020-02-28T14:12:11.069501Z"
    }
   },
   "outputs": [
    {
     "data": {
      "text/html": [
       "<div>\n",
       "<style scoped>\n",
       "    .dataframe tbody tr th:only-of-type {\n",
       "        vertical-align: middle;\n",
       "    }\n",
       "\n",
       "    .dataframe tbody tr th {\n",
       "        vertical-align: top;\n",
       "    }\n",
       "\n",
       "    .dataframe thead th {\n",
       "        text-align: right;\n",
       "    }\n",
       "</style>\n",
       "<table border=\"1\" class=\"dataframe\">\n",
       "  <thead>\n",
       "    <tr style=\"text-align: right;\">\n",
       "      <th></th>\n",
       "      <th>Departure</th>\n",
       "      <th>Arrival</th>\n",
       "      <th>Distance</th>\n",
       "    </tr>\n",
       "  </thead>\n",
       "  <tbody>\n",
       "    <tr>\n",
       "      <th>0</th>\n",
       "      <td>ATL</td>\n",
       "      <td>ATL</td>\n",
       "      <td>0</td>\n",
       "    </tr>\n",
       "    <tr>\n",
       "      <th>1</th>\n",
       "      <td>ATL</td>\n",
       "      <td>DEN</td>\n",
       "      <td>1925.48</td>\n",
       "    </tr>\n",
       "    <tr>\n",
       "      <th>2</th>\n",
       "      <td>ATL</td>\n",
       "      <td>JFK</td>\n",
       "      <td>1223.36</td>\n",
       "    </tr>\n",
       "    <tr>\n",
       "      <th>3</th>\n",
       "      <td>ATL</td>\n",
       "      <td>LAS</td>\n",
       "      <td>2803.98</td>\n",
       "    </tr>\n",
       "    <tr>\n",
       "      <th>4</th>\n",
       "      <td>ATL</td>\n",
       "      <td>ORD</td>\n",
       "      <td>975.64</td>\n",
       "    </tr>\n",
       "  </tbody>\n",
       "</table>\n",
       "</div>"
      ],
      "text/plain": [
       "  Departure Arrival Distance\n",
       "0       ATL     ATL        0\n",
       "1       ATL     DEN  1925.48\n",
       "2       ATL     JFK  1223.36\n",
       "3       ATL     LAS  2803.98\n",
       "4       ATL     ORD   975.64"
      ]
     },
     "execution_count": 293,
     "metadata": {},
     "output_type": "execute_result"
    }
   ],
   "source": [
    "extDataDistance = pd.DataFrame(CityDep,columns =['Departure'])\n",
    "extDataDistance['Arrival'] = CityArr\n",
    "extDataDistance['Distance'] = distance\n",
    "# extDataDistance.to_csv('/submissions/starting_kit/support2.csv', index=False)\n",
    "extDataDistance.head()"
   ]
  },
  {
   "cell_type": "markdown",
   "metadata": {},
   "source": [
    "### Creation d'un DataFrame commun et creation du fichier external_data.csv"
   ]
  },
  {
   "cell_type": "markdown",
   "metadata": {},
   "source": [
    "Cette partie, prends les deux csv file creer separement, et le reunis dans un, comme d'ecrit dans le Word.\n",
    "Elle desactivé pour securité, et le csv des autres tables sont supprimer aussi pour securité.\n",
    "Mais vous pouvez utiliser cette technique si vous voulez utiliser le meme csv avec differentes tables. "
   ]
  },
  {
   "cell_type": "code",
   "execution_count": 304,
   "metadata": {
    "ExecuteTime": {
     "end_time": "2020-02-28T14:32:46.646454Z",
     "start_time": "2020-02-28T14:32:45.896917Z"
    }
   },
   "outputs": [],
   "source": [
    "# import os\n",
    "# import glob\n",
    "# #set working directory\n",
    "# os.chdir(\"submissions/starting_kit\")\n",
    "\n",
    "# #find all csv files in the folder\n",
    "# #use glob pattern matching -> extension = 'csv'\n",
    "# #save result in list -> all_filenames\n",
    "# extension = 'csv'\n",
    "# all_filenames = [i for i in glob.glob('support*.{}'.format(extension))]\n",
    "# #print(all_filenames)\n",
    "\n",
    "# #combine all files in the list\n",
    "# combined_csv = pd.concat([pd.read_csv(f) for f in all_filenames ])\n",
    "# #export to csv\n",
    "# combined_csv.to_csv(\"external_dataTest.csv\",index = False)"
   ]
  },
  {
   "cell_type": "markdown",
   "metadata": {},
   "source": [
    "### Importation et creation des deux tables differentes \n",
    "\n",
    "Si vous voulez indentifiez les tables, vous pouvez a partir de cette partie en bas. Vous allez resuir a recuperer deux tables a partir du meme csv. "
   ]
  },
  {
   "cell_type": "code",
   "execution_count": 20,
   "metadata": {
    "ExecuteTime": {
     "end_time": "2020-03-16T20:12:49.718574Z",
     "start_time": "2020-03-16T20:12:49.480408Z"
    }
   },
   "outputs": [],
   "source": [
    "df = pd.read_csv(\"submissions/starting_kit/external_data.csv\")\n",
    "\n",
    "distanceDF = pd.DataFrame()\n",
    "distanceDF = df[['Departure','Arrival','Distance']] \n",
    "distanceDF.dropna(inplace = True)\n",
    "distanceDF.reset_index(inplace=True,drop= True)\n",
    "\n",
    "dataEXT = df.drop(['Departure','Arrival','Distance'], axis=1)\n",
    "dataEXT.rename(columns={\"Date\": \"DateOfDeparture\"})\n",
    "dataEXT.dropna(how='all',inplace=True)"
   ]
  },
  {
   "cell_type": "code",
   "execution_count": 21,
   "metadata": {
    "ExecuteTime": {
     "end_time": "2020-03-16T20:12:50.299743Z",
     "start_time": "2020-03-16T20:12:50.286311Z"
    }
   },
   "outputs": [
    {
     "data": {
      "text/html": [
       "<div>\n",
       "<style scoped>\n",
       "    .dataframe tbody tr th:only-of-type {\n",
       "        vertical-align: middle;\n",
       "    }\n",
       "\n",
       "    .dataframe tbody tr th {\n",
       "        vertical-align: top;\n",
       "    }\n",
       "\n",
       "    .dataframe thead th {\n",
       "        text-align: right;\n",
       "    }\n",
       "</style>\n",
       "<table border=\"1\" class=\"dataframe\">\n",
       "  <thead>\n",
       "    <tr style=\"text-align: right;\">\n",
       "      <th></th>\n",
       "      <th>Departure</th>\n",
       "      <th>Arrival</th>\n",
       "      <th>Distance</th>\n",
       "    </tr>\n",
       "  </thead>\n",
       "  <tbody>\n",
       "    <tr>\n",
       "      <th>0</th>\n",
       "      <td>ATL</td>\n",
       "      <td>ATL</td>\n",
       "      <td>0.00</td>\n",
       "    </tr>\n",
       "    <tr>\n",
       "      <th>1</th>\n",
       "      <td>ATL</td>\n",
       "      <td>DEN</td>\n",
       "      <td>1925.48</td>\n",
       "    </tr>\n",
       "    <tr>\n",
       "      <th>2</th>\n",
       "      <td>ATL</td>\n",
       "      <td>JFK</td>\n",
       "      <td>1223.36</td>\n",
       "    </tr>\n",
       "    <tr>\n",
       "      <th>3</th>\n",
       "      <td>ATL</td>\n",
       "      <td>LAS</td>\n",
       "      <td>2803.98</td>\n",
       "    </tr>\n",
       "    <tr>\n",
       "      <th>4</th>\n",
       "      <td>ATL</td>\n",
       "      <td>ORD</td>\n",
       "      <td>975.64</td>\n",
       "    </tr>\n",
       "  </tbody>\n",
       "</table>\n",
       "</div>"
      ],
      "text/plain": [
       "  Departure Arrival  Distance\n",
       "0       ATL     ATL      0.00\n",
       "1       ATL     DEN   1925.48\n",
       "2       ATL     JFK   1223.36\n",
       "3       ATL     LAS   2803.98\n",
       "4       ATL     ORD    975.64"
      ]
     },
     "execution_count": 21,
     "metadata": {},
     "output_type": "execute_result"
    }
   ],
   "source": [
    "distanceDF.head()"
   ]
  },
  {
   "cell_type": "code",
   "execution_count": 22,
   "metadata": {
    "ExecuteTime": {
     "end_time": "2020-03-16T20:12:54.312164Z",
     "start_time": "2020-03-16T20:12:54.279708Z"
    }
   },
   "outputs": [
    {
     "data": {
      "text/html": [
       "<div>\n",
       "<style scoped>\n",
       "    .dataframe tbody tr th:only-of-type {\n",
       "        vertical-align: middle;\n",
       "    }\n",
       "\n",
       "    .dataframe tbody tr th {\n",
       "        vertical-align: top;\n",
       "    }\n",
       "\n",
       "    .dataframe thead th {\n",
       "        text-align: right;\n",
       "    }\n",
       "</style>\n",
       "<table border=\"1\" class=\"dataframe\">\n",
       "  <thead>\n",
       "    <tr style=\"text-align: right;\">\n",
       "      <th></th>\n",
       "      <th>AirPort</th>\n",
       "      <th>City</th>\n",
       "      <th>CloudCover</th>\n",
       "      <th>Date</th>\n",
       "      <th>Dew PointC</th>\n",
       "      <th>Mean Humidity</th>\n",
       "      <th>Mean Sea Level PressurehPa</th>\n",
       "      <th>Mean TemperatureC</th>\n",
       "      <th>Mean VisibilityKm</th>\n",
       "      <th>Mean Wind SpeedKm/h</th>\n",
       "      <th>MeanDew PointC</th>\n",
       "      <th>N_BD</th>\n",
       "      <th>Oil_Poffset1</th>\n",
       "      <th>Oil_Poffset12</th>\n",
       "      <th>Oil_Poffset3</th>\n",
       "      <th>Oil_Poffset6</th>\n",
       "      <th>Population</th>\n",
       "      <th>WindDirDegrees</th>\n",
       "    </tr>\n",
       "  </thead>\n",
       "  <tbody>\n",
       "    <tr>\n",
       "      <th>0</th>\n",
       "      <td>ATL</td>\n",
       "      <td>Atlanta</td>\n",
       "      <td>3.0</td>\n",
       "      <td>2011-09-01</td>\n",
       "      <td>21.0</td>\n",
       "      <td>56.0</td>\n",
       "      <td>1019.0</td>\n",
       "      <td>29.0</td>\n",
       "      <td>16.0</td>\n",
       "      <td>6.0</td>\n",
       "      <td>18.0</td>\n",
       "      <td>0.0</td>\n",
       "      <td>3.008</td>\n",
       "      <td>2.114</td>\n",
       "      <td>3.046</td>\n",
       "      <td>3.125</td>\n",
       "      <td>422908.0</td>\n",
       "      <td>129.0</td>\n",
       "    </tr>\n",
       "  </tbody>\n",
       "</table>\n",
       "</div>"
      ],
      "text/plain": [
       "  AirPort     City  CloudCover        Date  Dew PointC  Mean Humidity  \\\n",
       "0     ATL  Atlanta         3.0  2011-09-01        21.0           56.0   \n",
       "\n",
       "   Mean Sea Level PressurehPa  Mean TemperatureC  Mean VisibilityKm  \\\n",
       "0                      1019.0               29.0               16.0   \n",
       "\n",
       "   Mean Wind SpeedKm/h  MeanDew PointC  N_BD  Oil_Poffset1  Oil_Poffset12  \\\n",
       "0                  6.0            18.0   0.0         3.008          2.114   \n",
       "\n",
       "   Oil_Poffset3  Oil_Poffset6  Population  WindDirDegrees  \n",
       "0         3.046         3.125    422908.0           129.0  "
      ]
     },
     "execution_count": 22,
     "metadata": {},
     "output_type": "execute_result"
    }
   ],
   "source": [
    "dataEXT.head(1)"
   ]
  },
  {
   "cell_type": "code",
   "execution_count": null,
   "metadata": {},
   "outputs": [],
   "source": []
  }
 ],
 "metadata": {
  "kernelspec": {
   "display_name": "Python 3",
   "language": "python",
   "name": "python3"
  },
  "language_info": {
   "codemirror_mode": {
    "name": "ipython",
    "version": 3
   },
   "file_extension": ".py",
   "mimetype": "text/x-python",
   "name": "python",
   "nbconvert_exporter": "python",
   "pygments_lexer": "ipython3",
   "version": "3.7.3"
  }
 },
 "nbformat": 4,
 "nbformat_minor": 4
}
